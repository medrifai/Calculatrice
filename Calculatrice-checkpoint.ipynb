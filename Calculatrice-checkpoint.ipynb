{
 "cells": [
  {
   "cell_type": "code",
   "execution_count": 10,
   "id": "ac45e416",
   "metadata": {},
   "outputs": [
    {
     "name": "stdout",
     "output_type": "stream",
     "text": [
      "enter the first number :3\n",
      "enter the second number :74\n",
      "enter the operation that you want to execute :3\n",
      "222\n"
     ]
    }
   ],
   "source": [
    "x = int(input('enter the first number :'))\n",
    "y = int(input('enter the second number :'))\n",
    "opp = int(input('enter the operation that you want to execute :'))\n",
    "if opp == 1 :\n",
    "    print ( x + y)\n",
    "elif opp == 2 :\n",
    "    print ( x - y)\n",
    "elif opp == 3 :\n",
    "    print ( x * y )\n",
    "elif opp == 4 :\n",
    "    print ( x / y)\n",
    "else :\n",
    "    print ('operation not found ')"
   ]
  },
  {
   "cell_type": "code",
   "execution_count": null,
   "id": "5f08a090",
   "metadata": {},
   "outputs": [],
   "source": []
  }
 ],
 "metadata": {
  "kernelspec": {
   "display_name": "Python 3 (ipykernel)",
   "language": "python",
   "name": "python3"
  },
  "language_info": {
   "codemirror_mode": {
    "name": "ipython",
    "version": 3
   },
   "file_extension": ".py",
   "mimetype": "text/x-python",
   "name": "python",
   "nbconvert_exporter": "python",
   "pygments_lexer": "ipython3",
   "version": "3.9.7"
  }
 },
 "nbformat": 4,
 "nbformat_minor": 5
}
